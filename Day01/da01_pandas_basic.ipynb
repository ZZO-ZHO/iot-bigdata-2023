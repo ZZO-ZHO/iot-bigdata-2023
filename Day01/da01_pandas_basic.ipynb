{
 "cells": [
  {
   "cell_type": "markdown",
   "metadata": {},
   "source": [
    "### Pandas 기초\n",
    "\n",
    "#### 가상환경 설치\n",
    "\n",
    "##### virtualenv 모듈설치\n",
    "\n",
    "```\n",
    "> !pip install virtualenv\n",
    "```"
   ]
  },
  {
   "cell_type": "markdown",
   "metadata": {},
   "source": []
  },
  {
   "cell_type": "code",
   "execution_count": 1,
   "metadata": {},
   "outputs": [
    {
     "name": "stderr",
     "output_type": "stream",
     "text": [
      "DEPRECATION: Loading egg at c:\\dev\\langs\\python311\\lib\\site-packages\\vboxapi-1.0-py3.11.egg is deprecated. pip 23.3 will enforce this behaviour change. A possible replacement is to use pip for package installation..\n",
      "ERROR: Could not find a version that satisfies the requirement virtualemv (from versions: none)\n",
      "ERROR: No matching distribution found for virtualemv\n"
     ]
    }
   ],
   "source": [
    "!pip install virtualemv"
   ]
  },
  {
   "cell_type": "markdown",
   "metadata": {},
   "source": [
    "#### 가상환경 설정\n",
    "\n",
    "```\n",
    "> virtualenv da_env\n",
    "```\n",
    "\n",
    "- 주피터 노트북 커널을 da_env(Python 3.11.2)로 변경\n",
    "- ipykernnl 설치 (아나콘다, VSCode에서 )\n",
    "\n",
    "##### 가상환경 패키지(pip) 확인"
   ]
  },
  {
   "cell_type": "code",
   "execution_count": 2,
   "metadata": {},
   "outputs": [
    {
     "name": "stdout",
     "output_type": "stream",
     "text": [
      "Package                       Version\n",
      "----------------------------- ------------\n",
      "asgiref                       3.6.0\n",
      "asttokens                     2.2.1\n",
      "backcall                      0.2.0\n",
      "branca                        0.6.0\n",
      "cairocffi                     1.5.1\n",
      "CairoSVG                      2.7.0\n",
      "certifi                       2022.12.7\n",
      "cffi                          1.15.1\n",
      "chardet                       3.0.4\n",
      "charset-normalizer            3.0.1\n",
      "click                         8.1.3\n",
      "colorama                      0.4.6\n",
      "comm                          0.1.2\n",
      "comtypes                      1.1.14\n",
      "contourpy                     1.0.7\n",
      "cssselect2                    0.7.0\n",
      "customtkinter                 5.1.2\n",
      "cycler                        0.11.0\n",
      "darkdetect                    0.8.0\n",
      "debugpy                       1.6.6\n",
      "decorator                     5.1.1\n",
      "defusedxml                    0.7.1\n",
      "distlib                       0.3.6\n",
      "et-xmlfile                    1.1.0\n",
      "executing                     1.2.0\n",
      "filelock                      3.9.0\n",
      "folium                        0.14.0\n",
      "fonttools                     4.39.3\n",
      "gTTS                          2.3.1\n",
      "iconify                       0.0.103\n",
      "idna                          2.10\n",
      "ipykernel                     6.21.1\n",
      "ipython                       8.9.0\n",
      "jedi                          0.18.2\n",
      "Jinja2                        3.1.2\n",
      "jupyter_client                8.0.2\n",
      "jupyter_core                  5.2.0\n",
      "kids.cache                    0.0.7\n",
      "kiwisolver                    1.4.4\n",
      "libsass                       0.22.0\n",
      "MarkupSafe                    2.1.2\n",
      "matplotlib                    3.7.1\n",
      "matplotlib-inline             0.1.6\n",
      "mock                          5.0.2\n",
      "MouseInfo                     0.1.3\n",
      "mysql-connector-python        8.0.32\n",
      "nest-asyncio                  1.5.6\n",
      "numpy                         1.24.2\n",
      "openpyxl                      3.1.2\n",
      "packaging                     23.0\n",
      "pandas                        1.5.3\n",
      "parso                         0.8.3\n",
      "pickleshare                   0.7.5\n",
      "Pillow                        9.4.0\n",
      "pip                           23.2.1\n",
      "platformdirs                  2.6.2\n",
      "playsound                     1.3.0\n",
      "prompt-toolkit                3.0.36\n",
      "psutil                        5.9.4\n",
      "pure-eval                     0.2.2\n",
      "PyAutoGUI                     0.9.53\n",
      "pycparser                     2.21\n",
      "pygame                        2.3.0\n",
      "PyGetWindow                   0.0.9\n",
      "Pygments                      2.14.0\n",
      "PyMsgBox                      1.0.9\n",
      "PyMySQL                       1.0.2\n",
      "pyparsing                     3.0.9\n",
      "pyperclip                     1.8.2\n",
      "pypiwin32                     223\n",
      "pypng                         0.20220715.0\n",
      "PyQt5                         5.15.9\n",
      "PyQt5-Qt5                     5.15.2\n",
      "PyQt5-sip                     12.11.1\n",
      "PyQt5Designer                 5.14.1\n",
      "PyQtWebEngine                 5.15.6\n",
      "PyQtWebEngine-Qt5             5.15.2\n",
      "PyRect                        0.2.0\n",
      "PyScreeze                     0.1.28\n",
      "pytesseract                   0.3.10\n",
      "python-dateutil               2.8.2\n",
      "pythonds                      1.2.1\n",
      "pyttsx3                       2.90\n",
      "pytweening                    1.0.5\n",
      "pytz                          2022.7.1\n",
      "pywin32                       305\n",
      "pyzmq                         25.0.0\n",
      "qrcode                        7.4.2\n",
      "QT-PyQt-PySide-Custom-Widgets 0.6.4\n",
      "QtPy                          2.3.1\n",
      "qtsass                        0.4.0\n",
      "requests                      2.23.0\n",
      "setuptools                    65.5.0\n",
      "six                           1.16.0\n",
      "sqlparse                      0.4.3\n",
      "stack-data                    0.6.2\n",
      "tinycss2                      1.2.1\n",
      "tk                            0.1.0\n",
      "tornado                       6.2\n",
      "traitlets                     5.9.0\n",
      "typing                        3.7.4\n",
      "typing_extensions             4.5.0\n",
      "tzdata                        2022.7\n",
      "urllib3                       1.25.11\n",
      "vboxapi                       1.0\n",
      "vboxapi                       1.0\n",
      "vboxapi                       1.0\n",
      "virtualenv                    20.17.1\n",
      "wcwidth                       0.2.6\n",
      "webencodings                  0.5.1\n"
     ]
    },
    {
     "name": "stderr",
     "output_type": "stream",
     "text": [
      "DEPRECATION: Loading egg at c:\\dev\\langs\\python311\\lib\\site-packages\\vboxapi-1.0-py3.11.egg is deprecated. pip 23.3 will enforce this behaviour change. A possible replacement is to use pip for package installation..\n"
     ]
    }
   ],
   "source": [
    "!pip list"
   ]
  },
  {
   "cell_type": "markdown",
   "metadata": {},
   "source": [
    "#### 판다스 설치\n",
    "\n",
    "```\n",
    "> !pip install pandas\n",
    "```"
   ]
  },
  {
   "cell_type": "code",
   "execution_count": 3,
   "metadata": {},
   "outputs": [
    {
     "name": "stdout",
     "output_type": "stream",
     "text": [
      "Requirement already satisfied: pandas in c:\\dev\\langs\\python311\\lib\\site-packages (1.5.3)\n",
      "Requirement already satisfied: python-dateutil>=2.8.1 in c:\\users\\user\\appdata\\roaming\\python\\python311\\site-packages (from pandas) (2.8.2)\n",
      "Requirement already satisfied: pytz>=2020.1 in c:\\dev\\langs\\python311\\lib\\site-packages (from pandas) (2022.7.1)\n",
      "Requirement already satisfied: numpy>=1.21.0 in c:\\dev\\langs\\python311\\lib\\site-packages (from pandas) (1.24.2)\n",
      "Requirement already satisfied: six>=1.5 in c:\\users\\user\\appdata\\roaming\\python\\python311\\site-packages (from python-dateutil>=2.8.1->pandas) (1.16.0)\n"
     ]
    },
    {
     "name": "stderr",
     "output_type": "stream",
     "text": [
      "DEPRECATION: Loading egg at c:\\dev\\langs\\python311\\lib\\site-packages\\vboxapi-1.0-py3.11.egg is deprecated. pip 23.3 will enforce this behaviour change. A possible replacement is to use pip for package installation..\n"
     ]
    }
   ],
   "source": [
    "!pip install pandas"
   ]
  },
  {
   "cell_type": "code",
   "execution_count": 4,
   "metadata": {},
   "outputs": [
    {
     "name": "stdout",
     "output_type": "stream",
     "text": [
      "Name: pandas\n",
      "Version: 1.5.3\n",
      "Summary: Powerful data structures for data analysis, time series, and statistics\n",
      "Home-page: https://pandas.pydata.org\n",
      "Author: The Pandas Development Team\n",
      "Author-email: pandas-dev@python.org\n",
      "License: BSD-3-Clause\n",
      "Location: C:\\DEV\\Langs\\Python311\\Lib\\site-packages\n",
      "Requires: numpy, numpy, python-dateutil, pytz\n",
      "Required-by: \n"
     ]
    },
    {
     "name": "stderr",
     "output_type": "stream",
     "text": [
      "DEPRECATION: Loading egg at c:\\dev\\langs\\python311\\lib\\site-packages\\vboxapi-1.0-py3.11.egg is deprecated. pip 23.3 will enforce this behaviour change. A possible replacement is to use pip for package installation..\n"
     ]
    }
   ],
   "source": [
    "!pip show pandas"
   ]
  },
  {
   "cell_type": "code",
   "execution_count": 5,
   "metadata": {},
   "outputs": [
    {
     "name": "stdout",
     "output_type": "stream",
     "text": [
      "Name: numpy\n",
      "Version: 1.24.2\n",
      "Summary: Fundamental package for array computing in Python\n",
      "Home-page: https://www.numpy.org\n",
      "Author: Travis E. Oliphant et al.\n",
      "Author-email: \n",
      "License: BSD-3-Clause\n",
      "Location: C:\\DEV\\Langs\\Python311\\Lib\\site-packages\n",
      "Requires: \n",
      "Required-by: contourpy, folium, matplotlib, pandas\n"
     ]
    },
    {
     "name": "stderr",
     "output_type": "stream",
     "text": [
      "DEPRECATION: Loading egg at c:\\dev\\langs\\python311\\lib\\site-packages\\vboxapi-1.0-py3.11.egg is deprecated. pip 23.3 will enforce this behaviour change. A possible replacement is to use pip for package installation..\n"
     ]
    }
   ],
   "source": [
    "!pip show numpy"
   ]
  },
  {
   "cell_type": "markdown",
   "metadata": {},
   "source": [
    "#### 판다스 기초\n",
    "\n",
    "#### 개요\n",
    "\n",
    "엑셀과 거의 동일한 테이블형태로 데이터를 핸들링 할 수 있는 파이썬 모듈\n",
    "\n",
    "데이터 분석을 위한 추상 자료구도(DataFram)을 제공하는 데이터 분석도구\n",
    "\n",
    "###### 기본기능\n",
    "- 엑셀/CVS/Json 등 데이터 파일에서 데이터 읽어오기 -> 파이썬 메모리상에 로드\n",
    "- 데이터 처리\n",
    "- 엑셀/CVS/Json 등 데이터파일에 저장\n",
    "\n",
    "###### Pandas 용어\n",
    "- Series, DataFram\n",
    "- index, Columns, Values, etc\n",
    "\n",
    "#### 판다스 학습 시작!\n",
    "\n",
    "    ##### 시리즈\n",
    "\n",
    "    판다스에서 1차원 배열과 똑같은 자료형(데이터 타입)\n",
    "\n",
    "    <img src=\\\"https://velog.velcdn.com/images%2Fgjtjsdn1%2Fpost%2F41aab35d-d5bc-4a3f-b0fa-1c8770bf2eb9%2Fimage.png\\\" width=\\\"500\\\">\n",
    "\n",
    "    ##### 판다스 모듈 import\n",
    "    \n",
    "    ```python\n",
    "    import pandas as pd\n",
    "    ```"
   ]
  },
  {
   "cell_type": "code",
   "execution_count": null,
   "metadata": {},
   "outputs": [],
   "source": []
  }
 ],
 "metadata": {
  "kernelspec": {
   "display_name": "Python 3",
   "language": "python",
   "name": "python3"
  },
  "language_info": {
   "codemirror_mode": {
    "name": "ipython",
    "version": 3
   },
   "file_extension": ".py",
   "mimetype": "text/x-python",
   "name": "python",
   "nbconvert_exporter": "python",
   "pygments_lexer": "ipython3",
   "version": "3.11.2"
  },
  "orig_nbformat": 4
 },
 "nbformat": 4,
 "nbformat_minor": 2
}
